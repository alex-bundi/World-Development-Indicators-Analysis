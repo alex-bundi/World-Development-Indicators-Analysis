{
 "cells": [
  {
   "cell_type": "markdown",
   "metadata": {},
   "source": [
    "# **World Development Indicators Analysis**\n",
    "\n",
    "## **Introduction**\n",
    "\n",
    "The following project is meant to analyze a wide range of socioeconomic, demographic, environmental, and development-related statistics for countries around the world. The dataset covers various aspects of development, including economic growth, poverty, education, health, environment, governance, and more. Analyzing the extensive dataset compiled by the World Bank involves examining a wide range of statistics to gain insights into global trends, regional disparities, and the progress of countries in terms of development. This static dataset covers 1960 - 2015.\n",
    "\n",
    "The dataset contains the following file formats: CSV and SQLITE File but the analysis will only use the SQLITE File\n",
    "### **Data source**\n",
    "\n",
    "To access and organize the dataset i.e. World Development Indicators dataset run the \"get_dataset.py\" file."
   ]
  },
  {
   "cell_type": "code",
   "execution_count": 1,
   "metadata": {},
   "outputs": [],
   "source": [
    "# Libraries\n",
    "\n",
    "import sqlite3"
   ]
  },
  {
   "cell_type": "code",
   "execution_count": 21,
   "metadata": {},
   "outputs": [
    {
     "name": "stdout",
     "output_type": "stream",
     "text": [
      "Database connection successful...\n"
     ]
    }
   ],
   "source": [
    "# Creates a conneection to the World Development Indicators database.\n",
    "\n",
    "wdi_db_path = r\"C:\\Users\\DSL\\Documents\\python\\W.D.I. Analysis\\W.D.I. Dataset\\indicators.sqlite\"\n",
    "db_connection = sqlite3.connect(wdi_db_path)\n",
    "cursor = db_connection.cursor()\n",
    "\n",
    "def connect_db():\n",
    "    \n",
    "    try: # Test database connection.\n",
    "        cursor.execute(\"SELECT * FROM sqlite_master WHERE type='table';\")\n",
    "        global all_tables\n",
    "        all_tables = cursor.fetchall()\n",
    "        print(\"Database connection successful...\")\n",
    "    except sqlite3.Error as error:\n",
    "        print('Error occurred - ', error)\n",
    "\n",
    "connect_db()\n",
    "# Remember to close the connection"
   ]
  },
  {
   "cell_type": "code",
   "execution_count": 17,
   "metadata": {},
   "outputs": [
    {
     "name": "stdout",
     "output_type": "stream",
     "text": [
      "Country\n",
      "CountryNotes\n",
      "Series\n",
      "Indicators\n",
      "SeriesNotes\n",
      "Footnotes\n"
     ]
    }
   ],
   "source": [
    "# A list of all tables present in the database.\n",
    "\n",
    "for tables in all_tables:\n",
    "    print(tables[1])"
   ]
  },
  {
   "cell_type": "code",
   "execution_count": 23,
   "metadata": {},
   "outputs": [
    {
     "name": "stdout",
     "output_type": "stream",
     "text": [
      "['Country', 'CountryNotes', 'Indicators', 'Series'] \n",
      "\n"
     ]
    }
   ],
   "source": [
    "# A list of all relevant tables and their respective columns that will aid in the analysis.\n",
    "\n",
    "def view_relevant_data():\n",
    "    selected_tables = [\"Country\", \"CountryNotes\", \"Indicators\", \"Series\"]\n",
    "    tables_columns = [\n",
    "        {\n",
    "            \"Country\": [\"CountryCode\", \"ShortName\", \"Region\", \"IncomeGroup\"],\n",
    "            \"CountryNotes\": [\"Countrycode\", \"Seriescode\", \"Description\"],\n",
    "            \"Indicators\": [\"CountryName\", \"CountryCode\", \"IndicatorName\", \"IndicatorCode\", \"Year\", \"Value\"],\n",
    "            \"Series\": [\"SeriesCode\", \"Topic\", \"IndicatorName\", \"LongDefinition\"]\n",
    "        }\n",
    "    ]\n",
    "    print(selected_tables, \"\\n\")\n",
    "\n",
    "    table_name = input(\"Table name: \").strip()\n",
    "    \n",
    "    if table_name in selected_tables:\n",
    "        cursor.execute(f\"PRAGMA table_info({table_name});\")\n",
    "        result = cursor.fetchall()\n",
    "\n",
    "        for columns in result:\n",
    "            if columns[1] in tables_columns[0][table_name]:\n",
    "                print(columns)\n",
    "\n",
    "view_relevant_data()\n"
   ]
  }
 ],
 "metadata": {
  "kernelspec": {
   "display_name": "Python 3",
   "language": "python",
   "name": "python3"
  },
  "language_info": {
   "codemirror_mode": {
    "name": "ipython",
    "version": 3
   },
   "file_extension": ".py",
   "mimetype": "text/x-python",
   "name": "python",
   "nbconvert_exporter": "python",
   "pygments_lexer": "ipython3",
   "version": "3.10.10"
  },
  "orig_nbformat": 4
 },
 "nbformat": 4,
 "nbformat_minor": 2
}
